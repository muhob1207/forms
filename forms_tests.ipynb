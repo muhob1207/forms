{
 "cells": [
  {
   "cell_type": "code",
   "execution_count": 94,
   "id": "81b395c7",
   "metadata": {},
   "outputs": [],
   "source": [
    "import requests"
   ]
  },
  {
   "cell_type": "code",
   "execution_count": 97,
   "id": "50f978b7",
   "metadata": {},
   "outputs": [
    {
     "name": "stdout",
     "output_type": "stream",
     "text": [
      "We correctly see the data types returned as the validation has not been passed\n",
      "{\"birth_date\":\"date\",\"email\":\"email\",\"first_name\":\"text\",\"last_name\":\"text\",\"phone\":\"text\"}\n",
      "\n",
      "We correctly see the template name returned as the validation has been passed\n",
      "CustomerForm\n"
     ]
    }
   ],
   "source": [
    "#Checking phone validation. \n",
    "\n",
    "#Phone starts with +7 and 9 numbers\n",
    "\n",
    "data = {\n",
    "    'first_name': 'Ivan',\n",
    "    'last_name': 'Ivanov',\n",
    "    'phone': '+7123456789',\n",
    "    'email': 'muhob1207@gmail.com',\n",
    "    'birth_date': '31.07.2009'\n",
    "}\n",
    "\n",
    "url = \"http://localhost:5001/get_form\" \n",
    "response = requests.post(url, json=data)\n",
    "print('We correctly see the data types returned as the validation has not been passed')\n",
    "print(response.text)\n",
    "\n",
    "#Phone starts with +7 and 10 numbers\n",
    "\n",
    "data = {\n",
    "    'first_name': 'Ivan',\n",
    "    'last_name': 'Ivanov',\n",
    "    'phone': '+71234567891',\n",
    "    'email': 'muhob1207@gmail.com',\n",
    "    'birth_date': '31.07.2009'\n",
    "}\n",
    "\n",
    "url = \"http://localhost:5001/get_form\" \n",
    "response = requests.post(url, json=data)\n",
    "print('We correctly see the template name returned as the validation has been passed')\n",
    "print(response.text)\n",
    "\n"
   ]
  },
  {
   "cell_type": "code",
   "execution_count": 98,
   "id": "708a61e1",
   "metadata": {},
   "outputs": [
    {
     "name": "stdout",
     "output_type": "stream",
     "text": [
      "We correctly see the data types returned as the validation has not been passed\n",
      "{\"birth_date\":\"date\",\"email\":\"email\",\"first_name\":\"text\",\"last_name\":\"text\",\"phone\":\"text\"}\n",
      "\n",
      "We correctly see the template name returned as the validation has been passed\n",
      "CustomerForm\n"
     ]
    }
   ],
   "source": [
    "#Checking phone validation. \n",
    "\n",
    "#Phone starts with +6 and 10 numbers\n",
    "\n",
    "data = {\n",
    "    'first_name': 'Ivan',\n",
    "    'last_name': 'Ivanov',\n",
    "    'phone': '+61234567891',\n",
    "    'email': 'muhob1207@gmail.com',\n",
    "    'birth_date': '31.07.2009'\n",
    "}\n",
    "\n",
    "url = \"http://localhost:5001/get_form\" \n",
    "response = requests.post(url, json=data)\n",
    "print('We correctly see the data types returned as the validation has not been passed')\n",
    "print(response.text)\n",
    "\n",
    "#Phone starts with +7 and 10 numbers\n",
    "\n",
    "data = {\n",
    "    'first_name': 'Ivan',\n",
    "    'last_name': 'Ivanov',\n",
    "    'phone': '+71234567891',\n",
    "    'email': 'muhob1207@gmail.com',\n",
    "    'birth_date': '31.07.2009'\n",
    "}\n",
    "\n",
    "url = \"http://localhost:5001/get_form\" \n",
    "response = requests.post(url, json=data)\n",
    "print('We correctly see the template name returned as the validation has been passed')\n",
    "print(response.text)\n"
   ]
  },
  {
   "cell_type": "code",
   "execution_count": 99,
   "id": "1d10673b",
   "metadata": {},
   "outputs": [
    {
     "name": "stdout",
     "output_type": "stream",
     "text": [
      "We correctly see the data types returned as the validation has not been passed\n",
      "{\"birth_date\":\"date\",\"email\":\"email\",\"last_name\":\"text\",\"phone\":\"phone\"}\n",
      "\n",
      "We correctly see the template name returned as the validation has been passed\n",
      "CustomerForm\n"
     ]
    }
   ],
   "source": [
    " #We can see that not all keys of the template are present inside data. So validation should not be passed\n",
    "#We removed first_name key\n",
    "\n",
    "data = {\n",
    "    'last_name': 'Ivanov',\n",
    "    'phone': '+71234567891',\n",
    "    'email': 'muhob1207@gmail.com',\n",
    "    'birth_date': '31.07.2009'\n",
    "}\n",
    "\n",
    "url = \"http://localhost:5001/get_form\" \n",
    "response = requests.post(url, json=data)\n",
    "print('We correctly see the data types returned as the validation has not been passed')\n",
    "print(response.text)\n",
    "\n",
    "\n",
    "\n",
    "data = {\n",
    "    'first_name': 'Ivan',\n",
    "    'last_name': 'Ivanov',\n",
    "    'phone': '+71234567891',\n",
    "    'email': 'muhob1207@gmail.com',\n",
    "    'birth_date': '31.07.2009'\n",
    "}\n",
    "\n",
    "url = \"http://localhost:5001/get_form\" \n",
    "response = requests.post(url, json=data)\n",
    "print('We correctly see the template name returned as the validation has been passed')\n",
    "print(response.text)"
   ]
  },
  {
   "cell_type": "code",
   "execution_count": 100,
   "id": "c3a30182",
   "metadata": {},
   "outputs": [
    {
     "name": "stdout",
     "output_type": "stream",
     "text": [
      "We correctly see the data types returned as the validation has not been passed\n",
      "CustomerForm\n",
      "We correctly see the template name returned as the validation has been passed\n",
      "CustomerForm\n"
     ]
    }
   ],
   "source": [
    " #We can see that data has more keys than the template (example_field), but all keys of the template are inside\n",
    "#of data. The validation should be passed\n",
    "\n",
    "data = {\n",
    "    'first_name': 'Ivan',\n",
    "    'last_name': 'Ivanov',\n",
    "    'phone': '+71234567891',\n",
    "    'email': 'muhob1207@gmail.com',\n",
    "    'birth_date': '31.07.2009',\n",
    "    'example_field':'123'\n",
    "}\n",
    "\n",
    "url = \"http://localhost:5001/get_form\" \n",
    "response = requests.post(url, json=data)\n",
    "print('We correctly see the data types returned as the validation has not been passed')\n",
    "print(response.text)\n",
    "\n",
    "\n",
    "data = {\n",
    "    'first_name': 'Ivan',\n",
    "    'last_name': 'Ivanov',\n",
    "    'phone': '+71234567891',\n",
    "    'email': 'muhob1207@gmail.com',\n",
    "    'birth_date': '31.07.2009'\n",
    "}\n",
    "\n",
    "url = \"http://localhost:5001/get_form\" \n",
    "response = requests.post(url, json=data)\n",
    "print('We correctly see the template name returned as the validation has been passed')\n",
    "print(response.text)"
   ]
  },
  {
   "cell_type": "code",
   "execution_count": 102,
   "id": "e163dd50",
   "metadata": {},
   "outputs": [
    {
     "name": "stdout",
     "output_type": "stream",
     "text": [
      "We correctly see the data types returned as the validation has not been passed\n",
      "{\"birth_date\":\"text\",\"email\":\"email\",\"first_name\":\"text\",\"last_name\":\"text\",\"phone\":\"phone\"}\n",
      "\n",
      "We correctly see the template name returned as the validation has been passed\n",
      "CustomerForm\n",
      "We correctly see the template name returned as the validation has been passed\n",
      "CustomerForm\n"
     ]
    }
   ],
   "source": [
    "#Checking date validation\n",
    "#Writing an incorrect date format (DD-MM-YYYY IS not accepted for example)\n",
    "#Accepted: DD.MM.YYYY or YYYY-MM-DD\n",
    "\n",
    "\n",
    "data = {\n",
    "    'first_name': 'Ivan',\n",
    "    'last_name': 'Ivanov',\n",
    "    'phone': '+71234567891',\n",
    "    'email': 'muhob1207@gmail.com',\n",
    "    'birth_date': '31-07-2009',\n",
    "}\n",
    "\n",
    "url = \"http://localhost:5001/get_form\" \n",
    "response = requests.post(url, json=data)\n",
    "print('We correctly see the data types returned as the validation has not been passed')\n",
    "print(response.text)\n",
    "\n",
    "\n",
    "data = {\n",
    "    'first_name': 'Ivan',\n",
    "    'last_name': 'Ivanov',\n",
    "    'phone': '+71234567891',\n",
    "    'email': 'muhob1207@gmail.com',\n",
    "    'birth_date': '31.07.2009'\n",
    "}\n",
    "\n",
    "url = \"http://localhost:5001/get_form\" \n",
    "response = requests.post(url, json=data)\n",
    "print('We correctly see the template name returned as the validation has been passed')\n",
    "print(response.text)\n",
    "\n",
    "\n",
    "data = {\n",
    "    'first_name': 'Ivan',\n",
    "    'last_name': 'Ivanov',\n",
    "    'phone': '+71234567891',\n",
    "    'email': 'muhob1207@gmail.com',\n",
    "    'birth_date': '2009-07-31'\n",
    "}\n",
    "\n",
    "url = \"http://localhost:5001/get_form\" \n",
    "response = requests.post(url, json=data)\n",
    "print('We correctly see the template name returned as the validation has been passed')\n",
    "print(response.text)"
   ]
  },
  {
   "cell_type": "code",
   "execution_count": 103,
   "id": "2e6ecefb",
   "metadata": {},
   "outputs": [
    {
     "name": "stdout",
     "output_type": "stream",
     "text": [
      "We correctly see the data types returned as the validation has not been passed\n",
      "{\"birth_date\":\"text\",\"email\":\"text\",\"first_name\":\"text\",\"last_name\":\"text\",\"phone\":\"phone\"}\n",
      "\n",
      "We correctly see the template name returned as the validation has been passed\n",
      "CustomerForm\n"
     ]
    }
   ],
   "source": [
    "#Checking email validation\n",
    "#Incorrect format: example.example.com\n",
    "#Correct format: example@example.com\n",
    "\n",
    "data = {\n",
    "    'first_name': 'Ivan',\n",
    "    'last_name': 'Ivanov',\n",
    "    'phone': '+71234567891',\n",
    "    'email': 'muhob1207.gmail.com',\n",
    "    'birth_date': '31-07-2009',\n",
    "}\n",
    "\n",
    "url = \"http://localhost:5001/get_form\" \n",
    "response = requests.post(url, json=data)\n",
    "print('We correctly see the data types returned as the validation has not been passed')\n",
    "print(response.text)\n",
    "\n",
    "\n",
    "data = {\n",
    "    'first_name': 'Ivan',\n",
    "    'last_name': 'Ivanov',\n",
    "    'phone': '+71234567891',\n",
    "    'email': 'muhob1207@gmail.com',\n",
    "    'birth_date': '31.07.2009'\n",
    "}\n",
    "\n",
    "url = \"http://localhost:5001/get_form\" \n",
    "response = requests.post(url, json=data)\n",
    "print('We correctly see the template name returned as the validation has been passed')\n",
    "print(response.text)"
   ]
  },
  {
   "cell_type": "code",
   "execution_count": 104,
   "id": "2a4f0717",
   "metadata": {},
   "outputs": [
    {
     "name": "stdout",
     "output_type": "stream",
     "text": [
      "We correctly see the template name returned as the validation has been passed\n",
      "OrderForm\n"
     ]
    }
   ],
   "source": [
    "#Trying with another template\n",
    "\n",
    "data = {\n",
    "    'date': '12.07.2000',\n",
    "    'customer_name': 'text',\n",
    "    'product_name': 'text'\n",
    "}\n",
    "\n",
    "url = \"http://localhost:5001/get_form\" \n",
    "response = requests.post(url, json=data)\n",
    "print('We correctly see the template name returned as the validation has been passed')\n",
    "print(response.text)"
   ]
  },
  {
   "cell_type": "code",
   "execution_count": null,
   "id": "53a3ed19",
   "metadata": {},
   "outputs": [],
   "source": []
  }
 ],
 "metadata": {
  "kernelspec": {
   "display_name": "Python 3 (ipykernel)",
   "language": "python",
   "name": "python3"
  },
  "language_info": {
   "codemirror_mode": {
    "name": "ipython",
    "version": 3
   },
   "file_extension": ".py",
   "mimetype": "text/x-python",
   "name": "python",
   "nbconvert_exporter": "python",
   "pygments_lexer": "ipython3",
   "version": "3.9.13"
  }
 },
 "nbformat": 4,
 "nbformat_minor": 5
}
